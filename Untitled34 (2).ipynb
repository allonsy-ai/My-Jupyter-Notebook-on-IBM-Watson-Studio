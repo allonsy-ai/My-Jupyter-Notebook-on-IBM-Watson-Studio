{
  "nbformat": 4,
  "nbformat_minor": 0,
  "metadata": {
    "colab": {
      "name": "Untitled34.ipynb",
      "provenance": []
    },
    "kernelspec": {
      "name": "python3",
      "display_name": "Python 3"
    }
  },
  "cells": [
    {
      "cell_type": "markdown",
      "metadata": {
        "id": "rj-8wRxRHISX"
      },
      "source": [
        "#My Jupyter Notebook on IBM Watson Studio"
      ]
    },
    {
      "cell_type": "markdown",
      "metadata": {
        "id": "ayyErFWOHJ0G"
      },
      "source": [
        "**Olutayo Solana**\r\n",
        "\r\n",
        "Product ML Engineer"
      ]
    },
    {
      "cell_type": "markdown",
      "metadata": {
        "id": "_8895Th3HJ-y"
      },
      "source": [
        "I am interested in Data Science because data sciece is cool"
      ]
    },
    {
      "cell_type": "markdown",
      "metadata": {
        "id": "TRZFbZ-THKGS"
      },
      "source": [
        "###My code adds 1 and 1 \r\n"
      ]
    },
    {
      "cell_type": "code",
      "metadata": {
        "id": "LRZ2mQLvDrCO"
      },
      "source": [
        "1 + 1 ="
      ],
      "execution_count": null,
      "outputs": []
    },
    {
      "cell_type": "markdown",
      "metadata": {
        "id": "v6frw2aUHKSr"
      },
      "source": [
        "horizontal rule\r\n",
        "\r\n",
        "---\r\n",
        "\r\n",
        "1.   number 1\r\n",
        "2.   number 2\r\n",
        "\r\n",
        "\r\n",
        "*   bullet 1\r\n",
        "*   bullet 2\r\n",
        "\r\n",
        "\r\n",
        "\r\n",
        "\r\n",
        "\r\n"
      ]
    }
  ]
}